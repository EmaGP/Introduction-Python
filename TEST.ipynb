{
 "cells": [
  {
   "cell_type": "markdown",
   "metadata": {},
   "source": [
    "# REUNIÓN 18 DE NOVIEMBRE- EMANUEL'S HOUSE"
   ]
  },
  {
   "cell_type": "code",
   "execution_count": 1,
   "metadata": {},
   "outputs": [],
   "source": [
    "# Librería\n",
    "import pandas as pd"
   ]
  },
  {
   "cell_type": "code",
   "execution_count": 7,
   "metadata": {},
   "outputs": [
    {
     "data": {
      "text/html": [
       "<div>\n",
       "<style scoped>\n",
       "    .dataframe tbody tr th:only-of-type {\n",
       "        vertical-align: middle;\n",
       "    }\n",
       "\n",
       "    .dataframe tbody tr th {\n",
       "        vertical-align: top;\n",
       "    }\n",
       "\n",
       "    .dataframe thead th {\n",
       "        text-align: right;\n",
       "    }\n",
       "</style>\n",
       "<table border=\"1\" class=\"dataframe\">\n",
       "  <thead>\n",
       "    <tr style=\"text-align: right;\">\n",
       "      <th></th>\n",
       "      <th>Asistentes</th>\n",
       "      <th>Rappi</th>\n",
       "      <th>Licoreria</th>\n",
       "      <th>Pizza</th>\n",
       "      <th>Monto_a_pagar</th>\n",
       "      <th>Pago_a_Joseph</th>\n",
       "      <th>Pago_a_Daniel</th>\n",
       "    </tr>\n",
       "  </thead>\n",
       "  <tbody>\n",
       "    <tr>\n",
       "      <th>0</th>\n",
       "      <td>Joseph</td>\n",
       "      <td>16.225</td>\n",
       "      <td>19.875</td>\n",
       "      <td>21.55</td>\n",
       "      <td>57.65</td>\n",
       "      <td>36.1</td>\n",
       "      <td>21.55</td>\n",
       "    </tr>\n",
       "    <tr>\n",
       "      <th>1</th>\n",
       "      <td>Junot</td>\n",
       "      <td>16.225</td>\n",
       "      <td>19.875</td>\n",
       "      <td>21.55</td>\n",
       "      <td>57.65</td>\n",
       "      <td>36.1</td>\n",
       "      <td>21.55</td>\n",
       "    </tr>\n",
       "    <tr>\n",
       "      <th>2</th>\n",
       "      <td>Dani</td>\n",
       "      <td>16.225</td>\n",
       "      <td>19.875</td>\n",
       "      <td>21.55</td>\n",
       "      <td>57.65</td>\n",
       "      <td>36.1</td>\n",
       "      <td>21.55</td>\n",
       "    </tr>\n",
       "    <tr>\n",
       "      <th>3</th>\n",
       "      <td>Emanuel</td>\n",
       "      <td>16.225</td>\n",
       "      <td>19.875</td>\n",
       "      <td>21.55</td>\n",
       "      <td>57.65</td>\n",
       "      <td>36.1</td>\n",
       "      <td>21.55</td>\n",
       "    </tr>\n",
       "  </tbody>\n",
       "</table>\n",
       "</div>"
      ],
      "text/plain": [
       "  Asistentes   Rappi  Licoreria  Pizza  Monto_a_pagar  Pago_a_Joseph  \\\n",
       "0     Joseph  16.225     19.875  21.55          57.65           36.1   \n",
       "1      Junot  16.225     19.875  21.55          57.65           36.1   \n",
       "2       Dani  16.225     19.875  21.55          57.65           36.1   \n",
       "3    Emanuel  16.225     19.875  21.55          57.65           36.1   \n",
       "\n",
       "   Pago_a_Daniel  \n",
       "0          21.55  \n",
       "1          21.55  \n",
       "2          21.55  \n",
       "3          21.55  "
      ]
     },
     "execution_count": 7,
     "metadata": {},
     "output_type": "execute_result"
    }
   ],
   "source": [
    "asistentes = ['Joseph', 'Junot', 'Dani', 'Emanuel']\n",
    "cant_asistentes = len(asistentes)\n",
    "rappi = 64.9\n",
    "licoreria = 79.5\n",
    "pizza = 86.2\n",
    "\n",
    "total = rappi + licoreria + pizza\n",
    "cu = total / cant_asistentes\n",
    "\n",
    "cuadro = pd.DataFrame(\n",
    "    {\n",
    "        'Asistentes': asistentes,\n",
    "        'Rappi': [rappi / cant_asistentes] * cant_asistentes,\n",
    "        'Licoreria': [licoreria / cant_asistentes] * cant_asistentes,\n",
    "        'Pizza': [pizza / cant_asistentes] * cant_asistentes,\n",
    "        'Monto_a_pagar': [cu] * cant_asistentes\n",
    "\n",
    "    }\n",
    ")\n",
    "\n",
    "cuadro['Pago_a_Joseph'] = cuadro['Rappi'] + cuadro['Licoreria']\n",
    "cuadro['Pago_a_Daniel'] = cuadro['Pizza']\n",
    "\n",
    "cuadro"
   ]
  }
 ],
 "metadata": {
  "kernelspec": {
   "display_name": "Python 3",
   "language": "python",
   "name": "python3"
  },
  "language_info": {
   "codemirror_mode": {
    "name": "ipython",
    "version": 3
   },
   "file_extension": ".py",
   "mimetype": "text/x-python",
   "name": "python",
   "nbconvert_exporter": "python",
   "pygments_lexer": "ipython3",
   "version": "3.12.0"
  }
 },
 "nbformat": 4,
 "nbformat_minor": 2
}
